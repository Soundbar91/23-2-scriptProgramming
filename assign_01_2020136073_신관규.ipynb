{
 "cells": [
  {
   "cell_type": "markdown",
   "metadata": {},
   "source": [
    "#   Script programming assignment 01\n",
    "## 주어진 문제에 맞게 코드를 작성하시오.\n"
   ]
  },
  {
   "cell_type": "markdown",
   "metadata": {},
   "source": [
    "#### Q1. 자동 판매기를 시뮬레이션하는 프로그램을 작성하여 보자. 사용자는 1000원짜리 지폐와 500원짜리 동전, 100원짜리 동전을 사용할 수 있다. 물건값을 입력하고 1000원권, 500원짜리 동전, 100원짜리 동전의 개수를 입력하면 거스름돈을 계산하여서 동전으로 반환한다. 단, 반환되는 동전의 개수는 최소가 되어야한다.\n",
    "\n",
    "##### 물건값을 입력하시오: 750 (enter)\n",
    "##### 1000원 지폐개수: 1\n",
    "##### 500원 동전개수: 0\n",
    "##### 100원 동전개수: 0\n",
    "##### 500원= 0  100원= 2  10원= 5  1원=0\n"
   ]
  },
  {
   "cell_type": "code",
   "execution_count": 3,
   "metadata": {
    "scrolled": true
   },
   "outputs": [
    {
     "name": "stdout",
     "output_type": "stream",
     "text": [
      "물건값을 입력하시오 : 2500\n",
      "1000원 지폐개수 : 3\n",
      "500원 동전개수 : 0\n",
      "100원 동전개수 : 0\n",
      "500원 = 1 100원 = 0 10원 = 0 1원 = 0"
     ]
    }
   ],
   "source": [
    "#Q1 Start\n",
    "# 사용자로부터 물건값을 입력을 받는다.\n",
    "Product_Price = eval(input(\"물건값을 입력하시오 : \"))\n",
    "\n",
    "# 사용자로부터 1000원, 500원, 100원의 개수를 입력받는다.\n",
    "One_Thousand = eval(input(\"1000원 지폐개수 : \"))\n",
    "Five_Hundred = eval(input(\"500원 동전개수 : \"))\n",
    "One_Hurdred = eval(input(\"100원 동전개수 : \"))\n",
    "\n",
    "# 사용자로부터 입력받은 값을 바탕으로 잔돈을 계산한다.\n",
    "Rest_Price = ((One_Thousand * 1000) + (Five_Hundred * 500) + (One_Hurdred * 100)) - Product_Price\n",
    "\n",
    "# 나머지 연산과 정수 연산을 통해 잔돈이 지불되는 동전의 계수를 계산하여 출력한다.\n",
    "print(\"500원 = %d\"%(Rest_Price // 500), end = \" \")\n",
    "print(\"100원 = %d\"%((Rest_Price % 500) // 100), end = \" \")\n",
    "print(\"10원 = %d\"%(((Rest_Price % 500) % 100) // 10), end = \" \")\n",
    "print(\"1원 = %d\"%(((Rest_Price % 500) % 100) % 10), end = \"\")\n",
    "\n",
    "#Q1 End"
   ]
  },
  {
   "cell_type": "markdown",
   "metadata": {},
   "source": [
    "#### Q2. 도시의 인구가 현재 50,000명이고 매년 2%비율로 늘어나고 있다. 100,000명의 인구가 될 때까지 얼마나 많은 해가 소요되는지를 계산하는 프로그램을 작성하시오."
   ]
  },
  {
   "cell_type": "code",
   "execution_count": 2,
   "metadata": {
    "scrolled": true
   },
   "outputs": [
    {
     "name": "stdout",
     "output_type": "stream",
     "text": [
      "인구가 100,000명이 될 때가지는 36 년이 걸립니다.\n"
     ]
    }
   ],
   "source": [
    "#Q2 Start\n",
    "# 현재 인구수와 소요된 해를 저장할 변수를 선언한다.\n",
    "People_Number = 50000\n",
    "Year = 0\n",
    "\n",
    "# 반복문을 통해 인구가 100000명이 될 때까지 돌린다.\n",
    "while (People_Number < 100000) :\n",
    "    # 인구수를 저장한 변수에 변수값의 0.02를 곱해서 더한다.\n",
    "    People_Number += People_Number * 0.02\n",
    "    # 반복문을 한 바퀴 돌때마다 년도 수를 저장한 변수를 1 증가시킨다.\n",
    "    Year += 1\n",
    "    \n",
    "# 소요된 해를 출력한다.\n",
    "print(\"인구가 100,000명이 될 때가지는\", Year, \"년이 걸립니다.\")\n",
    "\n",
    "#Q2 End"
   ]
  },
  {
   "cell_type": "markdown",
   "metadata": {},
   "source": [
    "#### Q3. 하나의 정수 n을 인자로 받아서 n*n 행렬을 출력하는 함수 printMatrix(n)를 구현하시오. 행렬의 각 원소는 0이나 1의 값을 가지며 랜덤하게 생성된다. 사용자로부터 n을 입력받고 이 함수를 이용하여 n*n 행렬을 출력하는 테스트 프로그램을 작성하시오.\n",
    "\n",
    "##### (프로그램 실행 예시)\n",
    "##### n을 입력하세요: 3 (enter)\n",
    "##### 0 1 0\n",
    "##### 0 0 0 \n",
    "##### 1 1 1\n"
   ]
  },
  {
   "cell_type": "code",
   "execution_count": 1,
   "metadata": {},
   "outputs": [
    {
     "name": "stdout",
     "output_type": "stream",
     "text": [
      "n을 입력하세요 : 5\n",
      "1 0 1 0 0 \n",
      "0 1 0 0 0 \n",
      "1 1 0 0 0 \n",
      "1 1 0 0 1 \n",
      "1 0 1 0 1 \n"
     ]
    }
   ],
   "source": [
    "#Q3 Start\n",
    "# 난수를 발생시키기 위해 random 모듈을 포함시킨다.\n",
    "import random\n",
    "\n",
    "# 행렬을 출력하는 함수\n",
    "def printMatrix(n):\n",
    "    \n",
    "    # 반복문을 통해 i행을 출력한다.\n",
    "    for i in range(n) :\n",
    "        # 반복문을 통해 i행에 해당되는 j열을 출력한다\n",
    "        for j in range(n) :\n",
    "            # random.randint 함수를 사용하여 0과 1 중 하나를 발생 시켜 출력한다.\n",
    "            print(random.randint(0, 1), end = \" \")\n",
    "        print()\n",
    "\n",
    "# 사용자로부터 행렬의 크기를 입력받는다.        \n",
    "n = eval(input(\"n을 입력하세요 : \"))\n",
    "# 함수의 매개변수로 입력받은 값을 넘긴다.\n",
    "printMatrix(n) \n",
    "\n",
    "#Q3 End"
   ]
  },
  {
   "cell_type": "markdown",
   "metadata": {},
   "source": [
    "#### Q4. 사용자로부터 여러 숫자를 입력받아 최댓값, 최솟값, 합계, 평균을 출력하는 함수 calculate_stats(numbers) 를 작성하시오. (단, 입력 받는 숫자의 갯수, 함수의 인자 형은 자유)"
   ]
  },
  {
   "cell_type": "code",
   "execution_count": 6,
   "metadata": {
    "scrolled": true
   },
   "outputs": [
    {
     "name": "stdout",
     "output_type": "stream",
     "text": [
      "숫자를 입력 : 1 2 3 4\n",
      "[1, 2, 3, 4] 의 최댓값은 4\n",
      "[1, 2, 3, 4] 의 최솟값은 1\n",
      "[1, 2, 3, 4] 의 합계는 10\n",
      "[1, 2, 3, 4] 의 평균은 2.5\n"
     ]
    }
   ],
   "source": [
    "#Q4 Start\n",
    "\n",
    "# 최댓값, 최솟값, 합계, 평규를 출력하는 함수\n",
    "def calculate_stats(num):\n",
    "    # max, min 함수를 통해 최댓값과 최솟값을 구한다.\n",
    "    Num_Max = max(num)\n",
    "    Num_Min = min(num)\n",
    "    # 반복문을 통해 합계를 구한다.\n",
    "    Num_Sum = 0\n",
    "    for i in range(len(num)) : Num_Sum += num[i]\n",
    "    \n",
    "    # 매개변수로 받은 리스트의 길이를 통해 평균을 구한다.\n",
    "    Num_Avg = Num_Sum / len(num)\n",
    "    \n",
    "    # 최댓값, 최솟값, 합계, 평균을 출력한다.\n",
    "    print(num, \"의 최댓값은\", Num_Max)\n",
    "    print(num, \"의 최솟값은\", Num_Min)\n",
    "    print(num, \"의 합계는\", Num_Sum)\n",
    "    print(num, \"의 평균은\", Num_Avg)\n",
    "\n",
    "# 리스트로 구현하기\n",
    "# 사용자로부터 입력받은 숫자를 리스트에 저장\n",
    "num = list(map(int, input(\"숫자를 입력 : \").split()))\n",
    "# 리스트를 함수의 매개변수로 전달\n",
    "calculate_stats(num)\n",
    "\n",
    "#Q4 End"
   ]
  },
  {
   "cell_type": "markdown",
   "metadata": {},
   "source": [
    "#### Q5. 주어진 숫자가 소수인지 여부를 판별하는 함수 is_prime(n)를 작성하시오. 사용자로부터 숫자를 입력받아 해당 숫자가 소수인지 아닌지를 판별하여 Boolean형식으로 반환해야함."
   ]
  },
  {
   "cell_type": "code",
   "execution_count": 26,
   "metadata": {
    "scrolled": true
   },
   "outputs": [
    {
     "name": "stdout",
     "output_type": "stream",
     "text": [
      "숫자를 입력하세요 : 33\n",
      "33 의 소수 판별 여부 :  False\n"
     ]
    }
   ],
   "source": [
    "#Q5 Start\n",
    "\n",
    "# 소수의 여부를 판별하는 함수\n",
    "def is_prime(n):\n",
    "    # 2와 3은 소수이기 때문에 True를 반환\n",
    "    if n == 2 : return True\n",
    "    if n == 3 : return True\n",
    "    # 2로 나누어 떨어지지 않고, 3으로 나누어 떨어지지 않으면 True를 반환\n",
    "    if n % 2 != 0 and n % 3 != 0 : return True\n",
    "    # 그 이외의 경우는 False를 반환\n",
    "    else : return False\n",
    "\n",
    "# 사용자로부터 숫자를 입력받는다.\n",
    "Num = eval(input(\"숫자를 입력하세요 : \"))\n",
    "# 소수의 판별 여부를 출력한다.\n",
    "print(Num, \"의 소수 판별 여부 : \", is_prime(Num))\n",
    "\n",
    "#Q5 End"
   ]
  },
  {
   "cell_type": "markdown",
   "metadata": {},
   "source": [
    "#### Q6. Q5에서 작성한 is_prime 함수를 이용해 0부터 입력한 숫자까지의 모든 소수를 찾아내 출력하는 find_prime(n)을 작성하시오."
   ]
  },
  {
   "cell_type": "code",
   "execution_count": 25,
   "metadata": {},
   "outputs": [
    {
     "name": "stdout",
     "output_type": "stream",
     "text": [
      "탐색할 숫자의 최댓값을 입력 : 77\n",
      "1 는 소수입니다.\n",
      "2 는 소수입니다.\n",
      "3 는 소수입니다.\n",
      "5 는 소수입니다.\n",
      "7 는 소수입니다.\n",
      "11 는 소수입니다.\n",
      "13 는 소수입니다.\n",
      "17 는 소수입니다.\n",
      "19 는 소수입니다.\n",
      "23 는 소수입니다.\n",
      "25 는 소수입니다.\n",
      "29 는 소수입니다.\n",
      "31 는 소수입니다.\n",
      "35 는 소수입니다.\n",
      "37 는 소수입니다.\n",
      "41 는 소수입니다.\n",
      "43 는 소수입니다.\n",
      "47 는 소수입니다.\n",
      "49 는 소수입니다.\n",
      "53 는 소수입니다.\n",
      "55 는 소수입니다.\n",
      "59 는 소수입니다.\n",
      "61 는 소수입니다.\n",
      "65 는 소수입니다.\n",
      "67 는 소수입니다.\n",
      "71 는 소수입니다.\n",
      "73 는 소수입니다.\n",
      "77 는 소수입니다.\n"
     ]
    }
   ],
   "source": [
    "#Q6 Start\n",
    "\n",
    "# 넘겨받은 매개변수까지의 모든 소수를 찾아내 출력하는 함수\n",
    "def find_prime(n):\n",
    "    # 반복문과 is_prime 함수를 통해 소수를 출력한다.\n",
    "    for i in range(0, n + 1) :\n",
    "        if is_prime(i) == True : print(i, \"는 소수입니다.\") \n",
    "\n",
    "# Q5. 함수 재사용            \n",
    "def is_prime(n):\n",
    "    if n == 2 : return True\n",
    "    if n == 3 : return True\n",
    "    if n % 2 != 0 and n % 3 != 0 : return True\n",
    "    else : return False\n",
    "    \n",
    "# 사용자로 부터 숫자를 입력받는다.\n",
    "Num = eval(input(\"소수를 탐색할 숫자의 최댓값을 입력 : \"))\n",
    "# 입력받은 숫자를 매개변수로 넘긴다.\n",
    "find_prime(Num)\n",
    "\n",
    "#Q6 End"
   ]
  }
 ],
 "metadata": {
  "kernelspec": {
   "display_name": "Python 3 (ipykernel)",
   "language": "python",
   "name": "python3"
  },
  "language_info": {
   "codemirror_mode": {
    "name": "ipython",
    "version": 3
   },
   "file_extension": ".py",
   "mimetype": "text/x-python",
   "name": "python",
   "nbconvert_exporter": "python",
   "pygments_lexer": "ipython3",
   "version": "3.11.4"
  }
 },
 "nbformat": 4,
 "nbformat_minor": 2
}
