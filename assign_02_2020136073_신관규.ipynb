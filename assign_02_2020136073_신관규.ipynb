{
 "cells": [
  {
   "cell_type": "markdown",
   "metadata": {},
   "source": [
    "#   Script programming assignment 02\n",
    "## 주어진 문제에 맞게 코드를 작성하시오.\n"
   ]
  },
  {
   "cell_type": "markdown",
   "metadata": {},
   "source": [
    "#### Q1. 입력된 정수를 역순으로 출력하는 함수 reverse(number)를 작성하시오.\n",
    "#### 사용자로부터 하나의 정수를 입력받고 위 함수를 이용하여 이 정수의 역순을 출력하는 테스트 프로그램을 작성하시오.\n",
    "\n",
    "##### 예시:  \n",
    "##### input: 121392    \n",
    "##### output: 293121\n",
    "\n"
   ]
  },
  {
   "cell_type": "code",
   "execution_count": 1,
   "metadata": {},
   "outputs": [
    {
     "name": "stdout",
     "output_type": "stream",
     "text": [
      "input: 2020136073\n",
      "3706310202\n"
     ]
    }
   ],
   "source": [
    "#Q1 Start\n",
    "\n",
    "# 입력된 정수를 역순으로 출력하는 함수\n",
    "def reverse(number):\n",
    "    # 입력된 정수를 문자열로 형 변환을 한다.\n",
    "    number = str(number)\n",
    "    # 인덱스 슬라이싱을 이용하여 역순으로 출력한다.\n",
    "    print(number[::-1])\n",
    "\n",
    "# 사용자로부터 정수를 입력을 받는다.\n",
    "Input_Num = int(input(\"input: \"))\n",
    "# 입력받은 정수를 함수로 전달한다.\n",
    "reverse(Input_Num)\n",
    "\n",
    "#Q1 End"
   ]
  },
  {
   "cell_type": "markdown",
   "metadata": {},
   "source": [
    "#### Q2.  다음과 같은 패스워드 생성 규칙에 따라 사용자가 입력한 문자열이 합당한 패스워드인지를 검사하는 함수 validatePassword(pw) 를 작성하시오.\n",
    "##### 1. 패스워드는 최소한 8개의 문자를 가져야 한다.\n",
    "##### 2. 패스워드는 문자와 숫자로 구성되어야 한다.\n",
    "##### 3. 패스워드는 최소한 한 개 이상의 대문자와 소문자를 가지고 있어야 한다.\n",
    "##### 위 함수는 문자열이 규칙을 따르면 True, 그렇지 않으면 False를 반환한다.\n",
    "##### 사용자로부터 패스워드를 입력받고, 위 함수를 이용하여 패스워드가 위 규칙을 따른다면 “올바른 패스워드입니다”를 출력하고, 그렇지 않으면 “올바르지 않은 패스워드입니다”를 출력하는 테스트 프로그램을 작성하시오.\n"
   ]
  },
  {
   "cell_type": "code",
   "execution_count": 3,
   "metadata": {},
   "outputs": [
    {
     "name": "stdout",
     "output_type": "stream",
     "text": [
      "패스워드를 입력하세요 : 1q2w3e4R1!\n",
      "올바른 패스워드입니다\n"
     ]
    }
   ],
   "source": [
    "#Q2 Start\n",
    "\n",
    "# 올바른 패스워드를 입력했는지 판별하는 함수\n",
    "def validatePassword(pw):\n",
    "    # 대문자의 개수와 소문자의 개수를 저장할 변수 선언\n",
    "    Cnt_A = 0\n",
    "    Cnt_a = 0\n",
    "    # 조건 1을 판별하는 반복문\n",
    "    # 패스워드 문자 개수가 8개 이하일 경우 False를 반환\n",
    "    if len(pw) < 8 : return False\n",
    "    \n",
    "    # 조건 2, 3을 판별하는 반복문\n",
    "    for ch in pw :\n",
    "        # 아스키 코드를 이용하여, 입력한 패스워드에서 문자와 숫자가 아닌 값이 있을 경우 False를 반환\n",
    "        if not 33 <= ord(ch) <= 126 : return False\n",
    "        # 아스키 코드를 이용하여, 대문자와 소문자의 개수를 카운트하여 변수에 저장\n",
    "        elif 65 <= ord(ch) <= 90 : Cnt_A += 1\n",
    "        elif 97 <= ord(ch) <= 122 : Cnt_a += 1\n",
    "    \n",
    "    # 대문자와 소문자의 개수가 0개일 경우 False를 반환\n",
    "    if Cnt_A == 0 or Cnt_a == 0 : return False\n",
    "    \n",
    "    # 모든 조건을 통과했다면, True를 반환\n",
    "    return True\n",
    "\n",
    "# 사용자로부터 패스워드를 입력 받는다.\n",
    "Pw_List = input(\"패스워드를 입력하세요 : \")\n",
    "# 함수의 반환 값이 True이면 올바른 패스워드, False이면 올바르지 않은 패스워드임을 출력\n",
    "print(\"올바른 패스워드입니다\" if validatePassword(Pw_List) else \"올바르지 않은 패스워드입니다\")\n",
    "\n",
    "#Q2 End"
   ]
  },
  {
   "cell_type": "markdown",
   "metadata": {},
   "source": [
    "#### Q3. 어떤 문자열에서 지정된 문자의 빈도수를 반환하는 함수 countChar(s, ch)를 작성하시오. \n",
    "##### 예시: countChar(“Welcome”, ‘e’)  output= 2\n",
    "##### (단, str 클래스의 count 메소드를 사용하지 않는다.)\n",
    "##### 사용자로부터 하나의 문자열과 하나의 문자를 입력받고 위에서 정의한 함수를 이용하여 그 문자열 내에 입력된 문자의 빈도수를 출력하는 테스트 프로그램을 작성하시오.\n"
   ]
  },
  {
   "cell_type": "code",
   "execution_count": 1,
   "metadata": {},
   "outputs": [
    {
     "name": "stdout",
     "output_type": "stream",
     "text": [
      "문자열을 입력하시오 : asdf\n",
      "빈도수를 측정할 문자를 입력하시오 : f\n",
      "asdf 에서 f 는 1 개 있습니다.\n"
     ]
    }
   ],
   "source": [
    "#Q3 Start\n",
    "\n",
    "# 문자열에서 지정된 문자의 빈도수를 반환하는 함수\n",
    "def countChar(s, ch):\n",
    "    # 문자의 빈도수를 저장할 변수\n",
    "    Cnt = 0\n",
    "    # 반복문을 통해 빈도수를 카운트 한다.\n",
    "    for i in ch : \n",
    "        if i == s : Cnt += 1\n",
    "    \n",
    "    # 입력한 문자열과 특정 문자의 빈도수를 출력한다.\n",
    "    print(ch,\"에서\", s, \"는\", Cnt, \"개 있습니다.\")\n",
    "\n",
    "# 사용자로부터 문자열과 빈도수를 측정할 문자를 입력 받는다.\n",
    "Input_String = input(\"문자열을 입력하시오 : \")\n",
    "Input_S = input(\"빈도수를 측정할 문자를 입력하시오 : \")\n",
    "# 입력받은 문자열과 빈도수를 측정할 문자를 함수로 전달한다.\n",
    "countChar(Input_S, Input_String) \n",
    "\n",
    "#Q3 End"
   ]
  },
  {
   "cell_type": "markdown",
   "metadata": {},
   "source": [
    "#### Q4. 주어진 문자열을 압축하는 함수 compress_string(s)를 작성하시오. \n",
    "\n",
    "##### 문자열 내에서 연속으로 반복되는 문자들을 반복 횟수와 문자로 대체하여 압축한 문자열을 반환한다.\n",
    "\n",
    "##### 예시: compress_string(\"aaabbbbcc\")  output= \"3a4b2c\"\n",
    "\n",
    "##### (단, 압축된 문자열의 대소문자는 구분하지 않는다. \"AaBBb\"=\"2a3b\")\n"
   ]
  },
  {
   "cell_type": "code",
   "execution_count": 4,
   "metadata": {},
   "outputs": [
    {
     "name": "stdout",
     "output_type": "stream",
     "text": [
      "문자열을 입력하세요 : ab\n",
      "1a1b"
     ]
    }
   ],
   "source": [
    "#Q4 Start\n",
    "\n",
    "# 문자열을 압축하는 함수\n",
    "def compress_string(s):\n",
    "    # 입력한 문자열 중 중복된 문자열을 넣을 리스트(스택)\n",
    "    String_Stack = []\n",
    "    # 압축된 문자열을 저장할 리스트\n",
    "    Output_Stack = []\n",
    "\n",
    "    # 반복문을 통해 문자열을 압축\n",
    "    for ch in s :\n",
    "        # String_Stack의 인덱스를 대신 해줄 변수\n",
    "        top = -1\n",
    "\n",
    "        # String_Stack에 아무것도 없으면, ch를 스택에 추가한다.\n",
    "        if not String_Stack :\n",
    "            String_Stack.append(ch)\n",
    "            top += 1\n",
    "\n",
    "        # String_Stack의 마지막 문자가 ch와 같다면, ch를 스택에 추가한다.\n",
    "        elif String_Stack[top] == ch :\n",
    "            String_Stack.append(ch)\n",
    "            top += 1\n",
    "\n",
    "        # 문자가 다르다면, Output_Stack에 스택에 있는 문자와 문자의 개수를 추가한다\n",
    "        # 이후 스택을 초기화하고, ch를 스택에 추가한다.\n",
    "        else :\n",
    "            Output_Stack.append(len(String_Stack))\n",
    "            Output_Stack.append(String_Stack[top])\n",
    "            String_Stack.clear()\n",
    "            String_Stack.append(ch)\n",
    "            top = 0\n",
    "\n",
    "    # 반복문이 끝난 이후에 스택에 문자가 남아있다면, Output_Stack에 스택에 있는 문자와 문자의 개수를 추가한다\n",
    "    if String_Stack :\n",
    "        Output_Stack.append(len(String_Stack))\n",
    "        Output_Stack.append(String_Stack[top])\n",
    "        String_Stack.clear()\n",
    "\n",
    "    # Output_Stack에 있는 압축된 문자열을 출력한다.\n",
    "    for i in range(len(Output_Stack)) : print(Output_Stack[i], end = \"\")\n",
    "            \n",
    "# 사용자로부터 문자열을 입력 받는다.\n",
    "Input_String = input(\"문자열을 입력하세요 : \")\n",
    "# 입력받은 문자열을 함수에 전달한다.\n",
    "compress_string(Input_String.lower())\n",
    "\n",
    "\n",
    "#Q4 End"
   ]
  },
  {
   "cell_type": "markdown",
   "metadata": {},
   "source": [
    "#### Q5. 문자열 내의 문자 수를 세는 함수 countLetters(s)를 작성하시오.\n",
    "\n",
    "##### 사용자로부터 하나의 문자열을 입력받고 위 함수를 이용하여 그 문자열 내의 문자 수를 출력하는 테스트 프로그램을 작성하시오.\n",
    "##### (단, len() 함수는 사용하지 않는다.)\n",
    "\n"
   ]
  },
  {
   "cell_type": "code",
   "execution_count": 2,
   "metadata": {},
   "outputs": [
    {
     "name": "stdout",
     "output_type": "stream",
     "text": [
      "문자열을 입력하세요 : asdf\n",
      "입력하신 문자열의 길이는 4 입니다.\n"
     ]
    }
   ],
   "source": [
    "#Q5 Start\n",
    "\n",
    "# 문자열 내의 문자 수를 세는 함수\n",
    "def countLetters(s):\n",
    "    # 문자 수를 저장할 변수 \n",
    "    Cnt = 0\n",
    "    # 반복문을 통해 매개변수로 받은 문자열에서 \\n이 나올 때 까지 카운트를 한다.\n",
    "    for ch in Input_String :\n",
    "        Cnt += 1\n",
    "            \n",
    "    # 계산된 문자열의 개수를 출력한다.\n",
    "    print(\"입력하신 문자열의 길이는\", Cnt, \"입니다.\")\n",
    "\n",
    "# 사용자로부터 문자열을 입력 받는다.\n",
    "Input_String = input(\"문자열을 입력하세요 : \")\n",
    "# 입력받은 문자열을 함수로 전달한다.\n",
    "countLetters(Input_String)\n",
    "\n",
    "#Q5 End"
   ]
  },
  {
   "cell_type": "markdown",
   "metadata": {},
   "source": [
    "#### Q6. 최빈값을 찾는 프로그램을 작성하시오.\n",
    "##### 주어진 정수 list에서 가장 자주 등장하는 값을 찾는 함수 find_mode(number)를 작성한다.\n",
    "##### 최빈값이 여러 개인 경우 모두 출력한다.\n",
    "\n",
    "##### 예시:  find_mode([1, 1, 3, 2, 3, 4, 4, 4, 4, 5]) output = 4 \n",
    "##### 길이 100의 리스트에 -10부터 10까지의 랜덤한 정수로 초기화를 한 후 테스트 한다.\n"
   ]
  },
  {
   "cell_type": "code",
   "execution_count": 9,
   "metadata": {},
   "outputs": [
    {
     "name": "stdout",
     "output_type": "stream",
     "text": [
      "[3, -2, 5, -5, 5, -1, 6, 2, -8, -3, -6, 6, -10, -10, -6, 2, 7, -2, 5, -8, 1, -5, -9, -10, 10, -8, -2, -3, 2, 7, -7, -4, 2, 1, 10, -4, -4, 2, -1, 8, -4, -8, 8, -10, 2, -8, -8, -9, 5, 10, 0, -2, -6, 0, -3, 4, -7, 9, -7, 4, 1, 5, -9, 0, 2, 2, 7, 8, 9, 2, 8, 4, -6, 5, -4, -3, -10, -10, 7, 1, -1, -7, -9, 8, 10, -6, 2, 7, 2, -6, 7, -7, -6, 4, -8, 10, 5, 6, -4, -4] 의 최빈값은 2 입니다.\n"
     ]
    }
   ],
   "source": [
    "#Q6 Start\n",
    "# 랜덤한 정수로 초기화하기 위해 random 모듈을 포함\n",
    "import random\n",
    "\n",
    "# 최빈값을 찾아 출력하는 함수\n",
    "def find_mode(number):\n",
    "    # 리스트에 있는 숫자의 개수를 저장할 변수 선언\n",
    "    Cnt_Number = [0] * 21\n",
    "    # 반복문을 통해 문자가 몇 번 나오는지 계산\n",
    "    # ex) -10의 경우 인덱스 0에 저장\n",
    "    # ex) -5의 경우 인덱스 5에 저장\n",
    "    # ex) 10의 경우 인덱스 20에 저장\n",
    "    for i in number :\n",
    "        Cnt_Number[i + 10] += 1\n",
    "\n",
    "    # 최빈값의 인덱스와 나온 회수를 저장하기 위한 변수\n",
    "    Cnt_Index = 0\n",
    "    Max_Number = Cnt_Number[0]\n",
    "    # 반복문을 통해 등장 회수를 비교한다.\n",
    "    for i in range(1, len(Cnt_Number)) :\n",
    "        if Max_Number < Cnt_Number[i] :\n",
    "            Max_Number = Cnt_Number[i]\n",
    "            Cnt_Index = i\n",
    "\n",
    "    # 계산된 최빈값의 인덱스에서 10을 뺀 값을 출력한다.\n",
    "    # ex) 최빈값의 인덱스가 5이면, -5가 최빈값\n",
    "    print(number, \"의 최빈값은\", Cnt_Index - 10, \"입니다.\")\n",
    "\n",
    "# 크기가 100, -10 ~ 10으로 초기화 된 리스트 선언\n",
    "# randint를 이용하여 -10 ~ 10의 랜덤한 정수로 초기화\n",
    "Input_Number = []\n",
    "for i in range(100) :\n",
    "    Input_Number.append(random.randint(-10, 10))\n",
    "# 함수로 초기화된 리스트를 전달\n",
    "find_mode(Input_Number)\n",
    "\n",
    "#Q6 End"
   ]
  }
 ],
 "metadata": {
  "kernelspec": {
   "display_name": "Python 3 (ipykernel)",
   "language": "python",
   "name": "python3"
  },
  "language_info": {
   "codemirror_mode": {
    "name": "ipython",
    "version": 3
   },
   "file_extension": ".py",
   "mimetype": "text/x-python",
   "name": "python",
   "nbconvert_exporter": "python",
   "pygments_lexer": "ipython3",
   "version": "3.11.4"
  }
 },
 "nbformat": 4,
 "nbformat_minor": 2
}
